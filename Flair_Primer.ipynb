{
 "cells": [
  {
   "cell_type": "markdown",
   "id": "9cc631f7",
   "metadata": {},
   "source": [
    "## Introduction\n",
    "Flair NLP consists of Sentences and Tokens to define a statement. "
   ]
  },
  {
   "cell_type": "code",
   "execution_count": 1,
   "id": "9df73ad4",
   "metadata": {},
   "outputs": [],
   "source": [
    "from flair.data import Sentence\n",
    "text = \"I would like to look for a flight from Miami to Dubai on the 1st of September.\""
   ]
  },
  {
   "cell_type": "code",
   "execution_count": 2,
   "id": "e0ecd62b",
   "metadata": {},
   "outputs": [
    {
     "name": "stdout",
     "output_type": "stream",
     "text": [
      "Sentence: \"I would like to look for a flight from Miami to Dubai on the 1st of September .\"   [− Tokens: 18]\n",
      "Token: 4 to\n",
      "Token: 4 to\n",
      "The token is Token: 1 I\n",
      "The token is Token: 2 would\n",
      "The token is Token: 3 like\n",
      "The token is Token: 4 to\n",
      "The token is Token: 5 look\n",
      "The token is Token: 6 for\n",
      "The token is Token: 7 a\n",
      "The token is Token: 8 flight\n",
      "The token is Token: 9 from\n",
      "The token is Token: 10 Miami\n",
      "The token is Token: 11 to\n",
      "The token is Token: 12 Dubai\n",
      "The token is Token: 13 on\n",
      "The token is Token: 14 the\n",
      "The token is Token: 15 1st\n",
      "The token is Token: 16 of\n",
      "The token is Token: 17 September\n",
      "The token is Token: 18 .\n"
     ]
    }
   ],
   "source": [
    "sent = Sentence(text)\n",
    "print(sent)\n",
    "print(sent.get_token(4)) \n",
    "print(sent[3])\n",
    "for token in sent:\n",
    "    print(f'The token is {token}')"
   ]
  },
  {
   "cell_type": "markdown",
   "id": "ffc6b40b",
   "metadata": {},
   "source": [
    "The token is nothing but the individual words composing  a sentence. Now here we can see another application if you dont want to tokenise the sentence."
   ]
  },
  {
   "cell_type": "code",
   "execution_count": 3,
   "id": "6c294186",
   "metadata": {},
   "outputs": [
    {
     "name": "stdout",
     "output_type": "stream",
     "text": [
      "Sentence: \"I would like to look for a flight from Miami to Dubai on the 1st of September.\"   [− Tokens: 17]\n"
     ]
    }
   ],
   "source": [
    "sent= Sentence(text,use_tokenizer=False)\n",
    "print(sent)"
   ]
  },
  {
   "cell_type": "markdown",
   "id": "19595696",
   "metadata": {},
   "source": [
    "## Tokenizer\n",
    "\n",
    "Using external tokenizers such as Spacy and Japanese or writing your own tokenizer"
   ]
  },
  {
   "cell_type": "code",
   "execution_count": 4,
   "id": "6765f5d2",
   "metadata": {},
   "outputs": [
    {
     "name": "stdout",
     "output_type": "stream",
     "text": [
      "Sentence: \"I would like to look for a flight from Miami to Dubai on the 1st of September .\"   [− Tokens: 18]\n"
     ]
    }
   ],
   "source": [
    "from flair.tokenization import SpacyTokenizer\n",
    "\n",
    "# init japanese tokenizer\n",
    "tokenizer = SpacyTokenizer(model='en_core_web_lg')\n",
    "\n",
    "# make sentence (and tokenize)\n",
    "sentence = Sentence(text, use_tokenizer=tokenizer)\n",
    "\n",
    "# output tokenized sentence\n",
    "print(sentence)"
   ]
  },
  {
   "cell_type": "markdown",
   "id": "66456e31",
   "metadata": {},
   "source": [
    "Here we could use the Spacy Tokenizer or we can write our own tokenizer by extending flair.data.Tokenizer. Let us see an example."
   ]
  },
  {
   "cell_type": "code",
   "execution_count": 5,
   "id": "85860471",
   "metadata": {},
   "outputs": [
    {
     "name": "stdout",
     "output_type": "stream",
     "text": [
      "Sentence: \"My QFF number is 8972927292\"   [− Tokens: 5]\n"
     ]
    }
   ],
   "source": [
    "text = \"My QFFnumber is 8972927292\"\n",
    "from typing import List, Callable, Optional\n",
    "from flair.data import Sentence, Token, Tokenizer\n",
    "class MyOwnTokenizer(Tokenizer):\n",
    "    def tokenize(self, text: str) -> List[Token]:\n",
    "        text = text.replace(\"QFF\",\"QFF \")\n",
    "        words = text.split(\" \")\n",
    "        previous_token = None\n",
    "        index=1;\n",
    "        tokens: List[Token] = []\n",
    "        for word in words:\n",
    "            if len(word.strip()) == 0:\n",
    "                continue\n",
    "            token = Token(\n",
    "                text=word, start_position=index, whitespace_after=True\n",
    "            )\n",
    "            tokens.append(token)\n",
    "            if (previous_token is not None) and (\n",
    "                    token.start_pos == previous_token.start_pos + len(previous_token.text)):\n",
    "                previous_token.whitespace_after = False\n",
    "\n",
    "            previous_token = token\n",
    "            index += index+1\n",
    "        return tokens\n",
    "\n",
    "    \n",
    "tokenizer = MyOwnTokenizer()\n",
    "\n",
    "# make sentence (and tokenize)\n",
    "sentence = Sentence(text, use_tokenizer=tokenizer)\n",
    "\n",
    "# output tokenized sentence\n",
    "print(sentence)"
   ]
  },
  {
   "cell_type": "markdown",
   "id": "52fcff3a",
   "metadata": {},
   "source": [
    "## Labeling Tokens and Sentences\n",
    "We assign tags to tokens and labels to sentences\n",
    "Now we are going to add a ner label to a word in the sentence. "
   ]
  },
  {
   "cell_type": "code",
   "execution_count": 6,
   "id": "955ab27a",
   "metadata": {},
   "outputs": [
    {
     "name": "stdout",
     "output_type": "stream",
     "text": [
      "\"Token: 5 8972927292\" is tagged as \"FFN\" with confidence score \"1.0\"\n"
     ]
    }
   ],
   "source": [
    "sentence = Sentence(text, use_tokenizer=tokenizer)\n",
    "sentence[4].add_tag('ner','FFN')\n",
    "# get the 'ner' tag of the token\n",
    "tag = sentence[4].get_tag('ner')\n",
    "# print token\n",
    "print(f'\"{sentence[4]}\" is tagged as \"{tag.value}\" with confidence score \"{tag.score}\"')"
   ]
  },
  {
   "cell_type": "markdown",
   "id": "6ff2df44",
   "metadata": {},
   "source": [
    "Here we can tag a sentence to a single or multiple labels and these can be of a single type or can be more as well. Here the sentence labels also have a confidence score."
   ]
  },
  {
   "cell_type": "code",
   "execution_count": 7,
   "id": "9db06cc5",
   "metadata": {},
   "outputs": [
    {
     "name": "stdout",
     "output_type": "stream",
     "text": [
      "Sentence: \"My QFF number is 8972927292\"   [− Tokens: 5  − Token-Labels: \"My QFF number is 8972927292 <FFN>\"  − Sentence-Labels: {'topic': [airline (1.0), loyalty (1.0)], 'language': [English (1.0)]}]\n"
     ]
    }
   ],
   "source": [
    "sentence.add_label('topic', 'airline')\n",
    "sentence.add_label('topic', 'loyalty')\n",
    "sentence.add_label('language', 'English')\n",
    "print(sentence)"
   ]
  },
  {
   "cell_type": "markdown",
   "id": "5c83b098",
   "metadata": {},
   "source": [
    "Again very similar to a tag, here the label also have value and score."
   ]
  },
  {
   "cell_type": "code",
   "execution_count": 8,
   "id": "d6582118",
   "metadata": {},
   "outputs": [
    {
     "name": "stdout",
     "output_type": "stream",
     "text": [
      "MyQFF number is 8972927292\n",
      " - classified as \"airline\" with score 1.0\n",
      " - classified as \"loyalty\" with score 1.0\n",
      " - classified as \"English\" with score 1.0\n"
     ]
    }
   ],
   "source": [
    "print(sentence.to_plain_string())\n",
    "for label in sentence.labels:\n",
    "    print(f' - classified as \"{label.value}\" with score {label.score}')"
   ]
  },
  {
   "cell_type": "code",
   "execution_count": 9,
   "id": "08d8761e",
   "metadata": {},
   "outputs": [
    {
     "name": "stdout",
     "output_type": "stream",
     "text": [
      "airline (1.0)\n",
      "loyalty (1.0)\n"
     ]
    }
   ],
   "source": [
    "for label in sentence.get_labels('topic'):\n",
    "    print(label)"
   ]
  },
  {
   "cell_type": "markdown",
   "id": "764906fd",
   "metadata": {},
   "source": [
    "## Working with pretrained models"
   ]
  },
  {
   "cell_type": "code",
   "execution_count": 10,
   "id": "fb841472",
   "metadata": {},
   "outputs": [
    {
     "name": "stdout",
     "output_type": "stream",
     "text": [
      "2021-11-19 04:03:27,030 --------------------------------------------------------------------------------\n",
      "2021-11-19 04:03:27,030 The model key 'ner' now maps to 'https://huggingface.co/flair/ner-english' on the HuggingFace ModelHub\n",
      "2021-11-19 04:03:27,030  - The most current version of the model is automatically downloaded from there.\n",
      "2021-11-19 04:03:27,030  - (you can alternatively manually download the original model at https://nlp.informatik.hu-berlin.de/resources/models/ner/en-ner-conll03-v0.4.pt)\n",
      "2021-11-19 04:03:27,030 --------------------------------------------------------------------------------\n",
      "2021-11-19 04:03:28,475 loading file C:\\Users\\A-7651\\.flair\\models\\ner-english\\4f4cdab26f24cb98b732b389e6cebc646c36f54cfd6e0b7d3b90b25656e4262f.8baa8ae8795f4df80b28e7f7b61d788ecbb057d1dc85aacb316f1bd02837a4a4\n"
     ]
    }
   ],
   "source": [
    "from flair.models import SequenceTagger\n",
    "\n",
    "tagger = SequenceTagger.load('ner')"
   ]
  },
  {
   "cell_type": "code",
   "execution_count": 11,
   "id": "b8a65bce",
   "metadata": {},
   "outputs": [
    {
     "name": "stdout",
     "output_type": "stream",
     "text": [
      "I would like to look for a flight from Miami <S-LOC> to Dubai <S-LOC> on the 1st of September.\n"
     ]
    }
   ],
   "source": [
    "text = \"I would like to look for a flight from Miami to Dubai on the 1st of September.\"\n",
    "sentence = Sentence(text, use_tokenizer=tokenizer)\n",
    "tagger.predict(sentence)\n",
    "print(sentence.to_tagged_string())"
   ]
  },
  {
   "cell_type": "markdown",
   "id": "3afaf8b1",
   "metadata": {},
   "source": [
    "Now we will try the same with another preloaded model from the Hugging Face Model Hub"
   ]
  },
  {
   "cell_type": "code",
   "execution_count": 12,
   "id": "81d07412",
   "metadata": {},
   "outputs": [
    {
     "name": "stdout",
     "output_type": "stream",
     "text": [
      "2021-11-19 04:03:32,832 loading file C:\\Users\\A-7651\\.flair\\models\\ner-english-large\\07301f59bb8cb113803be316267f06ddf9243cdbba92a4c8067ef92442d2c574.554244d3476d97501a766a98078421817b14654496b86f2f7bd139dc502a4f29\n",
      "I would like to look for a flight from Miami <S-LOC> to Dubai <S-LOC> on the 1st of September.\n"
     ]
    }
   ],
   "source": [
    "tagger = SequenceTagger.load('flair/ner-english-large')\n",
    "tagger.predict(sentence)\n",
    "print(sentence.to_tagged_string())"
   ]
  },
  {
   "cell_type": "code",
   "execution_count": 13,
   "id": "701499f3",
   "metadata": {},
   "outputs": [
    {
     "name": "stdout",
     "output_type": "stream",
     "text": [
      "Span [10]: \"Miami\"   [− Labels: LOC (1.0)]\n",
      "Span [12]: \"Dubai\"   [− Labels: LOC (1.0)]\n",
      "{'text': ' I wouldlike   to              look                            for                                                             a                                                                                                                               flight                                                                                                                                                                                                                                                          from                                                                                                                                                                                                                                                                                                                                                                                                                                                                                                                            Miami                                                                                                                                                                                                                                                                                                                                                                                                                                                                                                                                                                                                                                                                                                                                                                                                                                                                                                                                                                                                                                                           to                                                                                                                                                                                                                                                                                                                                                                                                                                                                                                                                                                                                                                                                                                                                                                                                                                                                                                                                                                                                                                                                                                                                                                                                                                                                                                                                                                                                                                                                                                                                                                                                                                                                                                                                                                                                                                                                                                                                                                                                                                                                                                                              Dubai                                                                                                                                                                                                                                                                                                                                                                                                                                                                                                                                                                                                                                                                                                                                                                                                                                                                                                                                                                                                                                                                                                                                                                                                                                                                                                                                                                                                                                                                                                                                                                                                                                                                                                                                                                                                                                                                                                                                                                                                                                                                                                                                                                                                                                                                                                                                                                                                                                                                                                                                                                                                                                                                                                                                                                                                                                                                                                                                                                                                                                                                                                                                                                                                                                                                                                                                                                                                                                                                                                                                                                                                                                                                                                                                                                                                                                                                                                                                                                                                                                                                                                                                                                                                                                                           on                                                                                                                                                                                                                                                                                                                                                                                                                                                                                                                                                                                                                                                                                                                                                                                                                                                                                                                                                                                                                                                                                                                                                                                                                                                                                                                                                                                                                                                                                                                                                                                                                                                                                                                                                                                                                                                                                                                                                                                                                                                                                                                                                                                                                                                                                                                                                                                                                                                                                                                                                                                                                                                                                                                                                                                                                                                                                                                                                                                                                                                                                                                                                                                                                                                                                                                                                                                                                                                                                                                                                                                                                                                                                                                                                                                                                                                                                                                                                                                                                                                                                                                                                                                                                                                                                                                                                                                                                                                                                                                                                                                                                                                                                                                                                                                                                                                                                                                                                                                                                                                                                                                                                                                                                                                                                                                                                                                                                                                                                                                                                                                                                                                                                                                                                                                                                                                                                                                                                                                                                                                                                                                                                                                                                                                                                                                                                                                                                                                                                                                                                                                                                                                                                                                                                                                                                                                                                                                                                                                                                                                                                                                                                                                                                                                                                                                                                                                                                                                                                                                                                                                                                                                                                                                                                                                                                                                                                                                                                                                                                                                                                                                                                                                                                                                                                                                                                                                                                                                                                                                              the                                                                                                                                                                                                                                                                                                                                                                                                                                                                                                                                                                                                                                                                                                                                                                                                                                                                                                                                                                                                                                                                                                                                                                                                                                                                                                                                                                                                                                                                                                                                                                                                                                                                                                                                                                                                                                                                                                                                                                                                                                                                                                                                                                                                                                                                                                                                                                                                                                                                                                                                                                                                                                                                                                                                                                                                                                                                                                                                                                                                                                                                                                                                                                                                                                                                                                                                                                                                                                                                                                                                                                                                                                                                                                                                                                                                                                                                                                                                                                                                                                                                                                                                                                                                                                                                                                                                                                                                                                                                                                                                                                                                                                                                                                                                                                                                                                                                                                                                                                                                                                                                                                                                                                                                                                                                                                                                                                                                                                                                                                                                                                                                                                                                                                                                                                                                                                                                                                                                                                                                                                                                                                                                                                                                                                                                                                                                                                                                                                                                                                                                                                                                                                                                                                                                                                                                                                                                                                                                                                                                                                                                                                                                                                                                                                                                                                                                                                                                                                                                                                                                                                                                                                                                                                                                                                                                                                                                                                                                                                                                                                                                                                                                                                                                                                                                                                                                                                                                                                                                                                                                                                                                                                                                                                                                                                                                                                                                                                                                                                                                                                                                                                                                                                                                                                                                                                                                                                                                                                                                                                                                                                                                                                                                                                                                                                                                                                                                                                                                                                                                                                                                                                                                                                                                                                                                                                                                                                                                                                                                                                                                                                                                                                                                                                                                                                                                                                                                                                                                                                                                                                                                                                                                                                                                                                                                                                                                                                                                                                                                                                                                                                                                                                                                                                                                                                                                                                                                                                                                                                                                                                                                                                                                                                                                                                                                                                                                                                                                                                                                                                                                                                                                                                                                                                                                                                                                                                                                                                                                                                                                                                                                                                                                                                                                                                                                                                                                                                                                                                                                                                                                                                                                                                                                                                                                                                                                                                                                                                                                                                                                                                                                                                                                                                                                                                                                                                                                                                                                                                                                                                                                                                                                                                                                                                                                                                                                                                                                                                                                                                                                                                                                                                                                                                                                                                                                                                                                                                                                                                                                                                                                                                                                                                                                                                                                                                                                                                                                                                                                                                                                                                                                                                                                                                                                                                                                                                                                                                                                                                                                                                                                                                                                                                                                                                                                                                                                                                                                                                                                                                                                                                                             1st                                                                                                                                                                                                                                                                                                                                                                                                                                                                                                                                                                                                                                                                                                                                                                                                                                                                                                                                                                                                                                                                                                                                                                                                                                                                                                                                                                                                                                                                                                                                                                                                                                                                                                                                                                                                                                                                                                                                                                                                                                                                                                                                                                                                                                                                                                                                                                                                                                                                                                                                                                                                                                                                                                                                                                                                                                                                                                                                                                                                                                                                                                                                                                                                                                                                                                                                                                                                                                                                                                                                                                                                                                                                                                                                                                                                                                                                                                                                                                                                                                                                                                                                                                                                                                                                                                                                                                                                                                                                                                                                                                                                                                                                                                                                                                                                                                                                                                                                                                                                                                                                                                                                                                                                                                                                                                                                                                                                                                                                                                                                                                                                                                                                                                                                                                                                                                                                                                                                                                                                                                                                                                                                                                                                                                                                                                                                                                                                                                                                                                                                                                                                                                                                                                                                                                                                                                                                                                                                                                                                                                                                                                                                                                                                                                                                                                                                                                                                                                                                                                                                                                                                                                                                                                                                                                                                                                                                                                                                                                                                                                                                                                                                                                                                                                                                                                                                                                                                                                                                                                                                                                                                                                                                                                                                                                                                                                                                                                                                                                                                                                                                                                                                                                                                                                                                                                                                                                                                                                                                                                                                                                                                                                                                                                                                                                                                                                                                                                                                                                                                                                                                                                                                                                                                                                                                                                                                                                                                                                                                                                                                                                                                                                                                                                                                                                                                                                                                                                                                                                                                                                                                                                                                                                                                                                                                                                                                                                                                                                                                                                                                                                                                                                                                                                                                                                                                                                                                                                                                                                                                                                                                                                                                                                                                                                                                                                                                                                                                                                                                                                                                                                                                                                                                                                                                                                                                                                                                                                                                                                                                                                                                                                                                                                                                                                                                                                                                                                                                                                                                                                                                                                                                                                                                                                                                                                                                                                                                                                                                                                                                                                                                                                                                                                                                                                                                                                                                                                                                                                                                                                                                                                                                                                                                                                                                                                                                                                                                                                                                                                                                                                                                                                                                                                                                                                                                                                                                                                                                                                                                                                                                                                                                                                                                                                                                                                                                                                                                                                                                                                                                                                                                                                                                                                                                                                                                                                                                                                                                                                                                                                                                                                                                                                                                                                                                                                                                                                                                                                                                                                                                                                                                                                                                                                                                                                                                                                                                                                                                                                                                                                                                                                                                                                                                                                                                                                                                                                                                                                                                                                                                                                                                                                                                                                                                                                                                                                                                                                                                                                                                                                                                                                                                                                                                                                                                                                                                                                                                                                                                                                                                                                                                                                                                                                                                                                                                                                                                                                                                                                                                                                                                                                                                                                                                                                                                                                                                                                                                                                                                                                                                                                                                                                                                                                                                                                                                                                                                                                                                                                                                                                                                                                                                                                                                                                                                                                                                                                                                                                                                                                                                                                                                                                                                                                                                                                                                                                                                                                                                                                                                                                                                                                                                                                                                                                                                                                                                                                                                                                                                                                                                                                                                                                                                                                                                                                                                                                                                                                                                                                                                                                                                                                                                                                                                                                                                                                                                                                                                                                                                                                                                                                                                                                                                                                                                                                                                                                                                                                                                                                                                                                                                                                                                                                                                                                                                                                                                                                                                                                                                                                                                                                                                                                                                                                                                                                                                                                                                                                                                                                                                                                                                                                                                                                                                                                                                                                                                                                                                                                                                                                                                                                                                                                                                                                                                                                                                                                                                                                                                                                                                                                                                                                                                                                                                                                                                                                                                                                                                                                                                                                                                                                                                                                                                                                                                                                                                                                                                                                                                                                                                                                                                                                                                                                                                                                                                                                                                                                                                                                                                                                                                                                                                                                                                                                                                                                                                                                                                                                                                                                                                                                                                                                                                                                                                                                                                                                                                                                                                                                                                                                                                                                                                                                                                                                                                                                                                                                                                                                                                                                                                                                                                                                                                                                                                                                                                                                                                                                                                                                                                                                                                                                                                                                                                                                                                                                                                                                                                                                                                                                                                                                                                                                                                                                                                                                                                                                                                                                                                                                                                                                                                                                                                                                                                                                                                                                                                                                                                                                                                                                                                                                                                                                                                                                                                                                                                                                                                                                                                                                                                                                                                                                                                                                                                                                                                                                                                                                                                                                                                                                                                                                                                                                                                                                                                                                                                                                                                                                                                                                                                                                                                                                                                                                                                                                                                                                                                                                                                                                                                                                                                                                                                                                                                                                                                                                                                                                                                                                                                                                                                                                                                                                                                                                                                                                                                                                                                                                                                                                                                                                                                                                                                                                                                                                                                                                                                                                                                                                                                                                                                                                                                                                                                                                                             of                                                                                                                                                                                                                                                                                                                                                                                                                                                                                                                                                                                                                                                                                                                                                                                                                                                                                                                                                                                                                                                                                                                                                                                                                                                                                                                                                                                                                                                                                                                                                                                                                                                                                                                                                                                                                                                                                                                                                                                                                                                                                                                                                                                                                                                                                                                                                                                                                                                                                                                                                                                                                                                                                                                                                                                                                                                                                                                                                                                                                                                                                                                                                                                                                                                                                                                                                                                                                                                                                                                                                                                                                                                                                                                                                                                                                                                                                                                                                                                                                                                                                                                                                                                                                                                                                                                                                                                                                                                                                                                                                                                                                                                                                                                                                                                                                                                                                                                                                                                                                                                                                                                                                                                                                                                                                                                                                                                                                                                                                                                                                                                                                                                                                                                                                                                                                                                                                                                                                                                                                                                                                                                                                                                                                                                                                                                                                                                                                                                                                                                                                                                                                                                                                                                                                                                                                                                                                                                                                                                                                                                                                                                                                                                                                                                                                                                                                                                                                                                                                                                                                                                                                                                                                                                                                                                                                                                                                                                                                                                                                                                                                                                                                                                                                                                                                                                                                                                                                                                                                                                                                                                                                                                                                                                                                                                                                                                                                                                                                                                                                                                                                                                                                                                                                                                                                                                                                                                                                                                                                                                                                                                                                                                                                                                                                                                                                                                                                                                                                                                                                                                                                                                                                                                                                                                                                                                                                                                                                                                                                                                                                                                                                                                                                                                                                                                                                                                                                                                                                                                                                                                                                                                                                                                                                                                                                                                                                                                                                                                                                                                                                                                                                                                                                                                                                                                                                                                                                                                                                                                                                                                                                                                                                                                                                                                                                                                                                                                                                                                                                                                                                                                                                                                                                                                                                                                                                                                                                                                                                                                                                                                                                                                                                                                                                                                                                                                                                                                                                                                                                                                                                                                                                                                                                                                                                                                                                                                                                                                                                                                                                                                                                                                                                                                                                                                                                                                                                                                                                                                                                                                                                                                                                                                                                                                                                                                                                                                                                                                                                                                                                                                                                                                                                                                                                                                                                                                                                                                                                                                                                                                                                                                                                                                                                                                                                                                                                                                                                                                                                                                                                                                                                                                                                                                                                                                                                                                                                                                                                                                                                                                                                                                                                                                                                                                                                                                                                                                                                                                                                                                                                                                                                                                                                                                                                                                                                                                                                                                                                                                                                                                                                                                                                                                                                                                                                                                                                                                                                                                                                                                                                                                                                                                                                                                                                                                                                                                                                                                                                                                                                                                                                                                                                                                                                                                                                                                                                                                                                                                                                                                                                                                                                                                                                                                                                                                                                                                                                                                                                                                                                                                                                                                                                                                                                                                                                                                                                                                                                                                                                                                                                                                                                                                                                                                                                                                                                                                                                                                                                                                                                                                                                                                                                                                                                                                                                                                                                                                                                                                                                                                                                                                                                                                                                                                                                                                                                                                                                                                                                                                                                                                                                                                                                                                                                                                                                                                                                                                                                                                                                                                                                                                                                                                                                                                                                                                                                                                                                                                                                                                                                                                                                                                                                                                                                                                                                                                                                                                                                                                                                                                                                                                                                                                                                                                                                                                                                                                                                                                                                                                                                                                                                                                                                                                                                                                                                                                                                                                                                                                                                                                                                                                                                                                                                                                                                                                                                                                                                                                                                                                                                                                                                                                                                                                                                                                                                                                                                                                                                                                                                                                                                                                                                                                                                                                                                                                                                                                                                                                                                                                                                                                                                                                                                                                                                                                                                                                                                                                                                                                                                                                                                                                                                                                                                                                                                                                                                                                                                                                                                                                                                                                                                                                                                                                                                                                                                                                                                                                                                                                                                                                                                                                                                                                                                                                                                                                                                                                                                                                                                                                                                                                                                                                                                                                                                                                                                                                                                                                                                                                                                                                                                                                                                                                                                                                                                                                                                                                                                                                                                                                                                                                                                                                                                                                                                                                                                                                                                                                                                                                                                                                                                                                                                                                                                                                                                                                                                                                                                                                                                                                                                                                                                                                                                                                                                                                                                                                                                                                                                                                                                                                                                                                                                                                                                                                                                                                                                                                                                                                                                                                                                                                                                                                                                                                                                                                                                                                                                                                                                                                                                                                                                                                                                                                                                                                                                                                                                                                                                                                                                                                                                                                                                                                                                                                                                                                                                                                                                                                                                                                                                                                                                                                                                                                                                                                                                                                                                                                                                                                                                                                                                                                                                                                                                                                                                                                                                                                                                                                                                                                                                                                                                                                                                                                                                                                                                                                                                                                                                                                                                                                                                                                                                                                                                                                                                                                                                                                                                                                                                                                                                                                                                                                                                                                                                                                                                                                                                                                                                                                                                                                                                                                                                                                                                                                                                                                                                                                                                                                                                                                                                                                                                                                                                                                                                                                                                                                                                                                                                                                                                                                                                                                                                                                                                                                                                                                                                                                                                                                                                                                                                                                                                                                                                                                                                                                                                                                                                                                                                                                                                                                                                                                                                                                                                                                                                                                                                                                                                                                                                                                                                                                                                                                                                                                                                                                                                                                                                                                                                                                                                                                                                                                                                                                                                                                                                                                                                                                                                                                                                                                                                                                                                                                                                                                                                                                                                                                                                                                                                                                                                                                                                                                                                                                                                                                                                                                                                                                                                                                                                                                                                                                                                                                                                                                                                                                                                                                                                                                                                                                                                                                                                                                                                                                                                                                                                                                                                                                                                                                                                                                                                                                                                                                                                                                                                                                                                                                                                                                                                                                                                                                                                                                                                                                                                                                                                                                                                                                                                                                                                                                                                                                                                                                                                                                                                                                                                                                                                                                                                                                                                                                                                                                                                                                                                                                                                                                                                                                                                                                                                                                                                                                                                                                                                                                                                                                                                                                                                                                                                                                                                                                                                                                                                                                                                                                                                                                                                                                                                                                                                                                                                                                                                                                                                                                                                                                                                                                                                                                                                                                                                                                                                                                                                                                                                                                                                                                                                                                                                                                                                                                                                                                                                                                                                                                                                                                                                                                                                                                                                                                                                                                                                                                                                                                                                                                                                                                                                                                                                                                                                                                                                                                                                                                                                                                                                                                                                                                                                                                                                                                                                                                                                                                                                                                                                                                                                                                                                                                                                                                                                                                                                                                                                                                                                                                                                                                                                                                                                                                                                                                                                                                                                                                                                                                                                                                                                                                                                                                                                                                                                                                                                                                                                                                                                                                                                                                                                                                                                                                                                                                                                                                                                                                                                                                                                                                                                                                                                                                                                                                                                                                                                                                                                                                                                                                                                                                                                                                                                                                                                                                                                                                                                                                                                                                                                                                                                                                                                                                                                                                                                                                                                                                                                                                                                                                                                                                                                                                                                                                                                                                                                                                                                                                                                                                                                                                                                                                                                                                                                                                                                                                                                                                                                                                                                                                                                                                                                                                                                                                                                                                                                                                                                                                                                                                                                                                                                                                                                                                                                                                                                                                                                                                                                                                                                                                                                                                                                                                                                                                                                                                                                                                                                                                                                                                                                                                                                                                                                                                                                                                                                                                                                                                                                                                                                                                                                                                                                                                                                                                                                                                                                                                                                                                                                                                                                                                                                                                                                                                                                                                                                                                                                                                                                                                                                                                                                                                                                                                                                                                                                                                                                                                                                                                                                                                                                                                                                                                                                                                                                                                                                                                                                                                                                                                                                                                                                                                                                                                                                                                                                                                                                                                                                                                                                                                                                                                                                                                                                                                                                                                                                                                                                                                                                                                                                                                                                                                                                                                                                                                                                                                                                                                                                                                                                                                                                                                                                                                                                                                                                                                                                                                                                                                                                                                                                                                                                                                                                                                                                                                                                                                                                                                                                                                                                                                                                                                                                                                                                                                                                                                                                                                                                                                                                                                                                                                                                                                                                                                                                                                                                                                                                                                                                                                                                                                                                                                                                                                                                                                                                                                                                                                                                                                                                                                                                                                                                                                                                                                                                                                                                                                                                                                                                                                                                                                                                                                                                                                                                                                                                                                                                                                                                                                                                                                                                                                                                                                                                                                                                                                                                                                                                                                                                                                                                                                                                                                                                                                                                                                                                                                                                                                                                                                                                                                                                                                                                                                                                                                                                                                                                                                                                                                                                                                                                                                                                                                                                                                                                                                                                                                                                                                                                                                                                                                                                                                                                                                                                                                                                                                                                                                                                                                                                                                                                                                                                                                                                                                                                                                                                                                                                                                                                                                                                                                                                                                                                                                                                                                                                                                                                                                                                                                                                                                                                                                                                                                                                                                                                                                                                                                                                                                                                                                                                                                                                                                                                                                                                                                                                                                                                                                                                                                                                                                                                                                                                                                                                                                                                                                                                                                                                                                                                                                                                                                                                                                                                                                                                                                                                                                                                                                                                                                                                                                                                                                                                                                                                                                                                                                                                                                                                                                                                                                                                                                                                                                                                                                                                                                                                                                                                                                                                                                                                                                                                                                                                                                                                                                                                                                                                                                                                                                                                                                                                                                                                                                                                                                                                                                                                                                                                                                                                                                                                                                                                                                                                                                                                                                                                                                                                                                                                                                                                                                                                                                                                                                                                                                                                                                                                                                                                                                                                                                                                                                                                                                                                                                                                                                                                                                                                                                                                                                                                                                                                                                                                                                                                                                                                                                              September.', 'labels': [], 'entities': [{'text': 'Miami', 'start_pos': 1023, 'end_pos': 1028, 'labels': [LOC (1.0)]}, {'text': 'Dubai', 'start_pos': 4095, 'end_pos': 4100, 'labels': [LOC (1.0)]}]}\n"
     ]
    }
   ],
   "source": [
    "#If the same entity spans across multiple tokens\n",
    "for entity in sentence.get_spans('ner'):\n",
    "    print(entity)\n",
    "print(sentence.to_dict(tag_type='ner'))"
   ]
  },
  {
   "cell_type": "markdown",
   "id": "5ca6c8d7",
   "metadata": {},
   "source": [
    "## Getting tags associated with a sentence\n",
    "\n",
    "Getting the spans in the sentence and their corresponding entities."
   ]
  },
  {
   "cell_type": "code",
   "execution_count": 14,
   "id": "dd462a10",
   "metadata": {},
   "outputs": [
    {
     "name": "stdout",
     "output_type": "stream",
     "text": [
      "Span [10]: \"Miami\"   [− Labels: LOC (1.0)]\n",
      "Span [12]: \"Dubai\"   [− Labels: LOC (1.0)]\n"
     ]
    }
   ],
   "source": [
    "for entity in sentence.get_spans('ner'):\n",
    "    print(entity)"
   ]
  },
  {
   "cell_type": "code",
   "execution_count": 15,
   "id": "feb26c2d",
   "metadata": {},
   "outputs": [
    {
     "name": "stdout",
     "output_type": "stream",
     "text": [
      "2021-11-19 04:03:58,639 --------------------------------------------------------------------------------\n",
      "2021-11-19 04:03:58,640 The model key 'pos' now maps to 'https://huggingface.co/flair/pos-english' on the HuggingFace ModelHub\n",
      "2021-11-19 04:03:58,642  - The most current version of the model is automatically downloaded from there.\n",
      "2021-11-19 04:03:58,643  - (you can alternatively manually download the original model at https://nlp.informatik.hu-berlin.de/resources/models/pos/en-pos-ontonotes-v0.5.pt)\n",
      "2021-11-19 04:03:58,644 --------------------------------------------------------------------------------\n",
      "2021-11-19 04:04:00,015 loading file C:\\Users\\A-7651\\.flair\\models\\pos-english\\a9a73f6cd878edce8a0fa518db76f441f1cc49c2525b2b4557af278ec2f0659e.121306ea62993d04cd1978398b68396931a39eb47754c8a06a87f325ea70ac63\n",
      "2021-11-19 04:04:00,631 --------------------------------------------------------------------------------\n",
      "2021-11-19 04:04:00,631 The model key 'ner' now maps to 'https://huggingface.co/flair/ner-english' on the HuggingFace ModelHub\n",
      "2021-11-19 04:04:00,631  - The most current version of the model is automatically downloaded from there.\n",
      "2021-11-19 04:04:00,631  - (you can alternatively manually download the original model at https://nlp.informatik.hu-berlin.de/resources/models/ner/en-ner-conll03-v0.4.pt)\n",
      "2021-11-19 04:04:00,631 --------------------------------------------------------------------------------\n",
      "2021-11-19 04:04:01,975 loading file C:\\Users\\A-7651\\.flair\\models\\ner-english\\4f4cdab26f24cb98b732b389e6cebc646c36f54cfd6e0b7d3b90b25656e4262f.8baa8ae8795f4df80b28e7f7b61d788ecbb057d1dc85aacb316f1bd02837a4a4\n",
      "Sentence: \"I would like to look for a flight from Miami to Dubai on the 1st of September.\"   [− Tokens: 17  − Token-Labels: \"I <PRP> would <MD> like <VB> to <TO> look <VB> for <IN> a <DT> flight <NN> from <IN> Miami <S-LOC/NNP> to <IN> Dubai <S-LOC/NNP> on <IN> the <DT> 1st <NN> of <IN> September. <NNP>\"]\n"
     ]
    }
   ],
   "source": [
    "#TO load  the tagger and ner at the same time.\n",
    "from flair.models import MultiTagger\n",
    "tagger = MultiTagger.load(['pos','ner'])\n",
    "tagger.predict(sentence)\n",
    "print(sentence)"
   ]
  },
  {
   "cell_type": "code",
   "execution_count": 16,
   "id": "2424e240",
   "metadata": {},
   "outputs": [
    {
     "name": "stdout",
     "output_type": "stream",
     "text": [
      "2021-11-19 04:04:06,061 --------------------------------------------------------------------------------\n",
      "2021-11-19 04:04:06,062 The model key 'ner' now maps to 'https://huggingface.co/flair/ner-english' on the HuggingFace ModelHub\n",
      "2021-11-19 04:04:06,063  - The most current version of the model is automatically downloaded from there.\n",
      "2021-11-19 04:04:06,064  - (you can alternatively manually download the original model at https://nlp.informatik.hu-berlin.de/resources/models/ner/en-ner-conll03-v0.4.pt)\n",
      "2021-11-19 04:04:06,064 --------------------------------------------------------------------------------\n",
      "2021-11-19 04:04:07,433 loading file C:\\Users\\A-7651\\.flair\\models\\ner-english\\4f4cdab26f24cb98b732b389e6cebc646c36f54cfd6e0b7d3b90b25656e4262f.8baa8ae8795f4df80b28e7f7b61d788ecbb057d1dc85aacb316f1bd02837a4a4\n",
      "I took the Qantas <S-ORG> flight from Dubai <S-LOC> .\n",
      "I lost my baggage .\n",
      "My name is Darwin <S-PER> .\n",
      "Can you please help ?\n"
     ]
    }
   ],
   "source": [
    "#Tagging a group of sentences\n",
    "from flair.models import SequenceTagger\n",
    "from flair.tokenization import SegtokSentenceSplitter\n",
    "\n",
    "# example text with many sentences\n",
    "text = \"I took the Qantas flight from Dubai. I lost my baggage. My name is Darwin. Can you please help?\"\n",
    "\n",
    "# initialize sentence splitter\n",
    "splitter = SegtokSentenceSplitter()\n",
    "\n",
    "# use splitter to split text into list of sentences\n",
    "sentences = splitter.split(text)\n",
    "\n",
    "# predict tags for sentences\n",
    "tagger = SequenceTagger.load('ner')\n",
    "tagger.predict(sentences,mini_batch_size=10)\n",
    "\n",
    "# iterate through sentences and print predicted labels\n",
    "for sentence in sentences:\n",
    "    print(sentence.to_tagged_string())"
   ]
  },
  {
   "cell_type": "markdown",
   "id": "c63d1688",
   "metadata": {},
   "source": [
    "## Text Classification with pretrained models\n",
    "\n",
    "Flair provides pretrained models for sentiment and communicative functions. "
   ]
  },
  {
   "cell_type": "code",
   "execution_count": 17,
   "id": "dd1498f6",
   "metadata": {},
   "outputs": [
    {
     "name": "stdout",
     "output_type": "stream",
     "text": [
      "2021-11-19 04:04:09,773 loading file C:\\Users\\A-7651\\.flair\\models\\sentiment-en-mix-distillbert_4.pt\n"
     ]
    }
   ],
   "source": [
    "from flair.models import TextClassifier\n",
    "\n",
    "# load tagger\n",
    "classifier = TextClassifier.load('sentiment')\n",
    "\n"
   ]
  },
  {
   "cell_type": "code",
   "execution_count": 18,
   "id": "6f509674",
   "metadata": {},
   "outputs": [
    {
     "name": "stdout",
     "output_type": "stream",
     "text": [
      "Sentence: \"Staff were very friendly but the rooms were not clean\"   [− Tokens: 10  − Sentence-Labels: {'label': [NEGATIVE (0.9976)]}]\n",
      "Sentence: \"I thought you would take care of it . Now I will have to do the thing over .\"   [− Tokens: 19  − Sentence-Labels: {'label': [NEGATIVE (0.9995)]}]\n",
      "Sentence: \"Can i speak to your manager ?\"   [− Tokens: 7  − Sentence-Labels: {'label': [NEGATIVE (0.7642)]}]\n"
     ]
    }
   ],
   "source": [
    "# make example sentence\n",
    "sentence = Sentence(\"Staff were very friendly but the rooms were not clean\")\n",
    "\n",
    "# call predict\n",
    "classifier.predict(sentence)\n",
    "\n",
    "# check prediction\n",
    "print(sentence)\n",
    "\n",
    "sentence = Sentence(\"I thought you would take care of it. Now I will have to do the thing over.\")\n",
    "\n",
    "# call predict\n",
    "classifier.predict(sentence)\n",
    "\n",
    "# check prediction\n",
    "print(sentence)\n",
    "\n",
    "sentence = Sentence(\"Can i speak to your manager?\")\n",
    "\n",
    "# call predict\n",
    "classifier.predict(sentence)\n",
    "\n",
    "# check prediction\n",
    "print(sentence)"
   ]
  },
  {
   "cell_type": "markdown",
   "id": "a15e4757",
   "metadata": {},
   "source": [
    "## Zero Shot Classification\n",
    "\n",
    "Flair gives a zero shot model for classification. Below will give you an example."
   ]
  },
  {
   "cell_type": "code",
   "execution_count": 19,
   "id": "25e26c31",
   "metadata": {},
   "outputs": [
    {
     "name": "stdout",
     "output_type": "stream",
     "text": [
      "2021-11-19 04:04:21,436 loading file C:\\Users\\A-7651\\.flair\\models\\tars-base-v8.pt\n",
      "{'TREC_6': {'label_dictionary': <flair.data.Dictionary object at 0x0000021395F80190>, 'multi_label': False, 'multi_label_threshold': 0.5, 'label_type': None, 'beta': 1.0}, 'DBPedia': {'label_dictionary': <flair.data.Dictionary object at 0x0000021395F80460>, 'multi_label': False, 'multi_label_threshold': 0.5, 'label_type': None, 'beta': 1.0}, 'AGNews': {'label_dictionary': <flair.data.Dictionary object at 0x00000213889ACF40>, 'multi_label': False, 'multi_label_threshold': 0.5, 'label_type': None, 'beta': 1.0}, 'IMDB': {'label_dictionary': <flair.data.Dictionary object at 0x000002138892D0A0>, 'multi_label': False, 'multi_label_threshold': 0.5, 'label_type': None, 'beta': 1.0}, 'SST': {'label_dictionary': <flair.data.Dictionary object at 0x000002138892D160>, 'multi_label': False, 'multi_label_threshold': 0.5, 'label_type': None, 'beta': 1.0}, 'GO_EMOTIONS': {'label_dictionary': <flair.data.Dictionary object at 0x000002138892D100>, 'multi_label': True, 'multi_label_threshold': 0.5, 'label_type': None, 'beta': 1.0}, 'NEWS_CATEGORY': {'label_dictionary': <flair.data.Dictionary object at 0x000002138892DA30>, 'multi_label': False, 'multi_label_threshold': 0.5, 'label_type': None, 'beta': 1.0}, 'Amazon': {'label_dictionary': <flair.data.Dictionary object at 0x0000021395972280>, 'multi_label': False, 'multi_label_threshold': 0.5, 'label_type': None, 'beta': 1.0}, 'Yelp': {'label_dictionary': <flair.data.Dictionary object at 0x000002139626AD00>, 'multi_label': False, 'multi_label_threshold': 0.5, 'label_type': None, 'beta': 1.0}}\n",
      "Sentence: \"I am so glad you liked it !\"   [− Tokens: 8  − Sentence-Labels: {'sad-happy': [happy (0.8667)]}]\n"
     ]
    }
   ],
   "source": [
    "from flair.models import TARSClassifier\n",
    "from flair.data import Sentence\n",
    "\n",
    "# 1. Load our pre-trained TARS model for English\n",
    "tars = TARSClassifier.load('tars-base')\n",
    "\n",
    "# 2. Prepare a test sentence\n",
    "sentence = Sentence(\"I am so glad you liked it!\")\n",
    "\n",
    "# 3. Define some classes that you want to predict using descriptive names\n",
    "classes = [\"happy\", \"sad\"]\n",
    "\n",
    "#4. Predict for these classes\n",
    "tars.predict_zero_shot(sentence, classes)\n",
    "\n",
    "# Print sentence with predicted labels\n",
    "print(sentence)"
   ]
  },
  {
   "cell_type": "code",
   "execution_count": 20,
   "id": "2fceacc9",
   "metadata": {},
   "outputs": [
    {
     "name": "stdout",
     "output_type": "stream",
     "text": [
      "Sentence: \"I can not log into my account , i have forgotten the pin and when i try to use the retrieval system , the text message\"   [− Tokens: 26]\n"
     ]
    }
   ],
   "source": [
    "text=\" I can not log into my account, i have forgotten the pin and when i try to use the retrieval system, the text message\"\n",
    "classes = [\"profile update\",\"new booking\",\"modify booking\"]\n",
    "sentences = splitter.split(text)\n",
    "\n",
    "\n",
    "classes = [\"forgotten pin\",\"new booking\",\"modify booking\"]\n",
    "\n",
    "tars.predict_zero_shot(sentences, classes)\n",
    "for sentence in sentences:\n",
    "    print(sentence)"
   ]
  },
  {
   "cell_type": "code",
   "execution_count": 21,
   "id": "087894d8",
   "metadata": {},
   "outputs": [
    {
     "name": "stdout",
     "output_type": "stream",
     "text": [
      "Sentence: \"I have forgotten my pin and would like to reset it .\"   [− Tokens: 12  − Sentence-Labels: {'Booking-Change Book-forgotten pin-Covid': [Change Book (0.6227), forgotten pin (0.9139)]}]\n",
      "Sentence: \"I want to book a flight from Paris to Dubai\"   [− Tokens: 10  − Sentence-Labels: {'Booking-Change Book-forgotten pin-Covid': [Booking (0.8506)]}]\n",
      "Sentence: \"I want to modify my existing booking\"   [− Tokens: 7  − Sentence-Labels: {'Booking-Change Book-forgotten pin-Covid': [Booking (0.9189), Change Book (0.5405)]}]\n",
      "Sentence: \"Due to Covid , will there be any additional checks or restrictions in the airport\"   [− Tokens: 15  − Sentence-Labels: {'Booking-Change Book-forgotten pin-Covid': [Booking (0.9777), Covid (0.8474)]}]\n"
     ]
    }
   ],
   "source": [
    "sentence=Sentence(\"I have forgotten my pin and would like to reset it.\")\n",
    "classes = [\"forgotten pin\",\"Booking\", \"Change Book\",\"Covid\"]\n",
    "tars.predict_zero_shot(sentence, classes)\n",
    "print(sentence)\n",
    "\n",
    "sentence=Sentence(\"I want to book a flight from Paris to Dubai\")\n",
    "tars.predict_zero_shot(sentence, classes)\n",
    "print(sentence)\n",
    "\n",
    "sentence=Sentence(\"I want to modify my existing booking\")\n",
    "tars.predict_zero_shot(sentence, classes)\n",
    "print(sentence)\n",
    "\n",
    "sentence=Sentence(\"Due to Covid, will there be any additional checks or restrictions in the airport\")\n",
    "tars.predict_zero_shot(sentence, classes)\n",
    "print(sentence)"
   ]
  },
  {
   "cell_type": "markdown",
   "id": "a7fe04ca",
   "metadata": {},
   "source": [
    "## Entity Disambuigation\n",
    "\n",
    "When the same word could mean different in different contexts. Flair has a Frame loader which helps us to disambuigate between entities.\n"
   ]
  },
  {
   "cell_type": "code",
   "execution_count": 22,
   "id": "1cca5e3b",
   "metadata": {},
   "outputs": [],
   "source": [
    "# # load model\n",
    "# tagger = SequenceTagger.load('frame')\n",
    "\n",
    "# # make English sentence\n",
    "# sentence_1 = Sentence('I went to the bank to deposit $100')\n",
    "# sentence_2 = Sentence('I was sitting on the river bank for some wind.')\n",
    "\n",
    "# # predict NER tags\n",
    "# tagger.predict(sentence_1)\n",
    "# tagger.predict(sentence_2)\n",
    "\n",
    "# # print sentence with predicted tags\n",
    "# print(sentence_1.to_tagged_string())\n",
    "# print(sentence_2.to_tagged_string())"
   ]
  },
  {
   "cell_type": "markdown",
   "id": "9b90a092",
   "metadata": {},
   "source": [
    "## Word Embeddings - Tokenisation"
   ]
  },
  {
   "cell_type": "markdown",
   "id": "fca766a4",
   "metadata": {},
   "source": [
    "## Flair supports multiple types of embeddings. \n",
    "It deals with both word embeddings and sentence embeddings. \n",
    "\n",
    "### Token embeddings\n",
    "Glove, flair embeddings, word2vec and so on.\n",
    "Flair token embeddings include contextual information as well there by creating different embeddings for each word.\n",
    "It also provides option to stack embeddings.\n",
    "https://github.com/flairNLP/flair/blob/master/resources/docs/embeddings/CLASSIC_WORD_EMBEDDINGS.md - list of all the embeddings supported by Flair. Please note that the it does not support word2vec by default and will need to download gensim vectors and supply."
   ]
  },
  {
   "cell_type": "code",
   "execution_count": 23,
   "id": "0525d338",
   "metadata": {},
   "outputs": [],
   "source": [
    "from flair.embeddings import WordEmbeddings,FlairEmbeddings\n",
    "from flair.data import Sentence\n",
    "\n",
    "# init embedding\n",
    "glove_embedding = WordEmbeddings('glove')"
   ]
  },
  {
   "cell_type": "code",
   "execution_count": 24,
   "id": "1ff63f38",
   "metadata": {
    "scrolled": true
   },
   "outputs": [
    {
     "name": "stdout",
     "output_type": "stream",
     "text": [
      "Note that OOV words dont have an embedding\n",
      "Token: 1 What\n",
      "tensor([-1.5180e-01,  3.8409e-01,  8.9340e-01, -4.2421e-01, -9.2161e-01,\n",
      "         3.7988e-02, -3.2026e-01,  3.4119e-03,  2.2101e-01, -2.2045e-01,\n",
      "         1.6661e-01,  2.1956e-01,  2.5325e-01, -2.9267e-01,  1.0171e-01,\n",
      "        -7.5491e-02, -6.0406e-02,  2.8194e-01, -5.8519e-01,  4.8271e-01,\n",
      "         1.7504e-02, -1.2086e-01, -1.0990e-01, -6.9554e-01,  1.5600e-01,\n",
      "         7.0558e-02, -1.5058e-01, -8.1811e-01, -1.8535e-01, -3.6863e-01,\n",
      "         3.1650e-02,  7.6616e-01,  8.4041e-02,  2.6928e-03, -2.7440e-01,\n",
      "         2.1815e-01, -3.5157e-02,  3.2569e-01,  1.0032e-01, -6.0932e-01,\n",
      "        -7.0316e-01,  1.8299e-01,  3.3134e-01, -1.2416e-01, -9.0542e-01,\n",
      "        -3.9157e-02,  4.4719e-01, -5.7338e-01, -4.0172e-01, -8.2234e-01,\n",
      "         5.5740e-01,  1.5101e-01,  2.4598e-01,  1.0113e+00, -4.6626e-01,\n",
      "        -2.7133e+00,  4.3273e-01, -1.6314e-01,  1.5828e+00,  5.5081e-01,\n",
      "        -2.4738e-01,  1.4184e+00, -1.6867e-02, -1.9368e-01,  1.0090e+00,\n",
      "        -5.9864e-02,  9.1853e-01,  4.3022e-01, -2.0624e-01,  7.6127e-02,\n",
      "         2.1595e-01, -2.6834e-01, -3.3342e-01, -3.7151e-01,  4.5197e-01,\n",
      "        -8.2460e-02,  3.2984e-01, -5.7376e-01, -1.3042e+00,  2.7121e-01,\n",
      "         6.6277e-01, -7.9626e-02, -7.9167e-01, -5.3662e-03, -1.7916e+00,\n",
      "        -3.3298e-01, -3.0698e-01, -3.3980e-01, -5.5618e-01, -6.9471e-01,\n",
      "         2.7427e-01, -2.1898e-01, -2.6714e-01,  2.2561e-03, -5.0178e-01,\n",
      "        -3.2775e-01, -4.5670e-01, -2.7123e-01,  2.2157e-01,  9.2112e-01])\n",
      "torch.Size([100])\n",
      "Token: 2 are\n",
      "tensor([-0.5153,  0.8319,  0.2246, -0.7387,  0.1872,  0.2602, -0.4256,  0.6712,\n",
      "        -0.3108, -0.6127,  0.0895, -0.2401,  1.1878,  0.6761, -0.0229, -0.9253,\n",
      "         0.0712,  0.3884, -0.4292,  0.3714,  0.3267,  0.4314,  0.8749,  0.3401,\n",
      "        -0.2319, -0.4114,  0.4906, -0.3291, -0.4911, -0.1899,  0.3341, -0.2124,\n",
      "        -0.3839, -0.0805,  1.1161,  0.2362,  0.3133,  0.4929,  0.1000, -0.1513,\n",
      "        -0.1418, -0.2802, -0.2388, -0.3549,  0.1828, -0.1913,  0.6054,  0.0746,\n",
      "        -0.2073, -0.6097,  0.1991, -0.5702, -0.1743,  1.4419, -0.2502, -1.8648,\n",
      "         0.4167, -0.2461,  1.5010,  0.8741, -0.6714,  1.2762, -0.2721,  0.1758,\n",
      "         1.2242,  0.2824,  0.6237,  0.6395,  0.3691, -0.8468, -0.3227, -0.6715,\n",
      "        -0.1963, -0.4079, -0.2097, -0.1962,  0.0419,  0.5397, -1.1105, -0.3952,\n",
      "         0.6659, -0.2330, -1.0820,  0.0465, -2.0993, -0.2849,  0.0800, -0.1296,\n",
      "        -0.3001, -0.4676, -0.8183, -0.0485, -0.3223, -0.3201, -1.1207, -0.0568,\n",
      "        -0.7300, -1.2024,  1.1304,  0.3479])\n",
      "torch.Size([100])\n",
      "Token: 3 the\n",
      "tensor([-0.0382, -0.2449,  0.7281, -0.3996,  0.0832,  0.0440, -0.3914,  0.3344,\n",
      "        -0.5755,  0.0875,  0.2879, -0.0673,  0.3091, -0.2638, -0.1323, -0.2076,\n",
      "         0.3340, -0.3385, -0.3174, -0.4834,  0.1464, -0.3730,  0.3458,  0.0520,\n",
      "         0.4495, -0.4697,  0.0263, -0.5415, -0.1552, -0.1411, -0.0397,  0.2828,\n",
      "         0.1439,  0.2346, -0.3102,  0.0862,  0.2040,  0.5262,  0.1716, -0.0824,\n",
      "        -0.7179, -0.4153,  0.2033, -0.1276,  0.4137,  0.5519,  0.5791, -0.3348,\n",
      "        -0.3656, -0.5486, -0.0629,  0.2658,  0.3020,  0.9977, -0.8048, -3.0243,\n",
      "         0.0125, -0.3694,  2.2167,  0.7220, -0.2498,  0.9214,  0.0345,  0.4674,\n",
      "         1.1079, -0.1936, -0.0746,  0.2335, -0.0521, -0.2204,  0.0572, -0.1581,\n",
      "        -0.3080, -0.4162,  0.3797,  0.1501, -0.5321, -0.2055, -1.2526,  0.0716,\n",
      "         0.7056,  0.4974, -0.4206,  0.2615, -1.5380, -0.3022, -0.0734, -0.2831,\n",
      "         0.3710, -0.2522,  0.0162, -0.0171, -0.3898,  0.8742, -0.7257, -0.5106,\n",
      "        -0.5203, -0.1459,  0.8278,  0.2706])\n",
      "torch.Size([100])\n",
      "Token: 4 plans\n",
      "tensor([ 0.0481,  0.0155, -0.1667,  0.0409,  0.0431, -0.6648, -0.4066,  0.6836,\n",
      "        -0.0656,  0.6261,  0.0047,  0.6112, -0.2308, -0.3710, -0.3349, -0.4904,\n",
      "         0.3349,  0.5366, -0.0863, -0.2060, -0.1052, -0.3638, -0.1442,  0.7074,\n",
      "        -0.6851, -0.3204, -0.3092, -0.0949, -0.4628,  0.0240, -0.6228,  1.0418,\n",
      "        -0.1391, -0.1375, -0.3176,  0.6824,  0.2578, -0.6247, -0.5610, -0.0778,\n",
      "        -0.2475, -0.1772,  0.3280, -0.0132, -0.1511,  0.3649, -0.3723, -0.1676,\n",
      "         0.1981, -0.5800,  0.3179,  0.1134,  0.1008,  0.9596, -0.1183, -2.4152,\n",
      "         0.2441, -0.0941,  1.8765,  0.4216,  0.1455,  0.3159,  0.5632, -0.3473,\n",
      "         0.9044, -0.1625, -0.3977,  1.2122,  0.0298, -0.4657,  0.3784, -0.4893,\n",
      "        -1.0481, -0.8324, -0.2325, -0.1402,  0.2258,  0.6596, -1.0114,  0.3763,\n",
      "         0.6724, -0.4226,  0.1853,  0.1750, -1.3222, -0.0145,  0.5664, -0.1511,\n",
      "        -0.2981,  0.0655,  0.2372, -0.0745, -0.0555, -0.3900, -0.7962, -0.0638,\n",
      "         0.1475,  0.0573,  0.9981,  0.0318])\n",
      "torch.Size([100])\n",
      "Token: 5 for\n",
      "tensor([-1.4401e-01,  3.2554e-01,  1.4257e-01, -9.9227e-02,  7.2536e-01,\n",
      "         1.9321e-01, -2.4188e-01,  2.0223e-01, -8.9599e-01,  1.5215e-01,\n",
      "         3.5963e-02, -5.9513e-01, -5.1635e-02, -1.4428e-02,  3.5475e-01,\n",
      "        -3.1859e-01,  7.6984e-01, -8.7369e-02, -2.4762e-01,  6.5059e-01,\n",
      "        -1.5138e-01, -4.2703e-01,  1.8813e-01,  9.1562e-02,  1.5192e-01,\n",
      "         1.1303e-01, -1.5222e-01, -6.2786e-01, -2.3923e-01,  9.6009e-02,\n",
      "        -4.6147e-01,  4.1526e-01, -3.0475e-01,  1.3710e-01,  1.6758e-01,\n",
      "         5.3301e-01, -4.3658e-02,  8.5924e-01, -4.1192e-01, -2.1394e-01,\n",
      "        -5.1228e-01, -3.1945e-01,  1.2662e-01, -3.1510e-01,  3.1429e-03,\n",
      "         2.7129e-01,  1.7328e-01, -1.3159e+00, -4.2414e-01, -6.9126e-01,\n",
      "         1.9017e-02, -1.3375e-01, -9.6057e-02,  1.7069e+00, -6.5291e-01,\n",
      "        -2.6111e+00,  2.6518e-01, -6.1178e-01,  2.0950e+00,  3.8148e-01,\n",
      "        -5.5823e-01,  2.0360e-01, -3.3704e-01,  3.7354e-01,  6.9510e-01,\n",
      "        -1.6370e-03,  8.1885e-01,  5.1793e-01,  2.7746e-01, -3.7177e-01,\n",
      "        -4.3345e-01, -4.2732e-01, -5.4912e-01, -3.0715e-01,  1.8101e-01,\n",
      "         2.7090e-01, -2.9266e-01,  3.0834e-01, -1.4624e+00, -1.8999e-01,\n",
      "         9.2277e-01, -9.9217e-02, -2.5165e-01,  4.9197e-01, -1.5250e+00,\n",
      "         1.5326e-01,  2.8270e-01,  1.2102e-01, -3.6766e-01, -6.1275e-01,\n",
      "        -1.8884e-01,  1.0907e-01,  1.2315e-01,  9.0066e-02, -6.5447e-01,\n",
      "        -1.7252e-01,  2.6336e-05,  2.5398e-01,  1.1078e+00, -7.3074e-02])\n",
      "torch.Size([100])\n",
      "Token: 6 iCargo\n",
      "tensor([0., 0., 0., 0., 0., 0., 0., 0., 0., 0., 0., 0., 0., 0., 0., 0., 0., 0., 0., 0., 0., 0., 0., 0.,\n",
      "        0., 0., 0., 0., 0., 0., 0., 0., 0., 0., 0., 0., 0., 0., 0., 0., 0., 0., 0., 0., 0., 0., 0., 0.,\n",
      "        0., 0., 0., 0., 0., 0., 0., 0., 0., 0., 0., 0., 0., 0., 0., 0., 0., 0., 0., 0., 0., 0., 0., 0.,\n",
      "        0., 0., 0., 0., 0., 0., 0., 0., 0., 0., 0., 0., 0., 0., 0., 0., 0., 0., 0., 0., 0., 0., 0., 0.,\n",
      "        0., 0., 0., 0.])\n",
      "torch.Size([100])\n",
      "Token: 7 ?\n",
      "tensor([ 0.1638,  0.6046,  1.0789, -1.2731, -0.7759,  0.3997,  0.3817, -0.1759,\n",
      "         0.6586, -0.4846,  0.3905, -0.0456, -0.0252,  0.3353,  0.1540, -0.4857,\n",
      "        -0.2496,  0.6724, -0.7787,  0.7019,  0.0343,  0.4012, -0.3327, -0.4152,\n",
      "         0.4952,  0.8084, -0.4868, -1.0350,  0.1358, -0.5372,  0.2894,  0.6943,\n",
      "         0.4436, -0.2648, -0.0607,  0.5687, -0.3426,  0.1999,  0.3420, -0.8282,\n",
      "        -0.0333, -0.2102, -0.3845, -0.6316, -0.8607, -0.5757,  0.0282, -0.5562,\n",
      "        -0.4803, -0.9884,  0.1255,  0.0246, -0.1348,  1.1944, -0.3794, -2.2709,\n",
      "         0.4155,  0.4785,  1.3684,  0.3488, -0.4189,  1.3103, -0.2554, -0.6253,\n",
      "         1.0669, -0.0108,  1.0244,  0.1463, -0.0530,  0.0646,  0.2835, -0.1625,\n",
      "        -0.2370, -0.3167,  0.0611, -0.0117,  0.2996, -0.0845, -0.5341, -0.2153,\n",
      "         0.7151, -0.5057, -0.4241, -0.2749, -1.1686, -0.0108, -0.2758, -0.4223,\n",
      "        -0.2112, -0.3949,  0.0999, -0.2254,  0.5855,  0.0828, -0.6013,  0.1551,\n",
      "         0.2161, -0.3140,  0.1844,  0.3624])\n",
      "torch.Size([100])\n"
     ]
    }
   ],
   "source": [
    "sentence=Sentence('What are the plans for iCargo?')\n",
    "glove_embedding.embed(sentence)\n",
    "print('Note that OOV words dont have an embedding')\n",
    "for token in sentence:\n",
    "    print(token)\n",
    "    print(token.embedding)\n",
    "    print(token.embedding.shape)"
   ]
  },
  {
   "cell_type": "code",
   "execution_count": 25,
   "id": "5f345f7a",
   "metadata": {},
   "outputs": [
    {
     "name": "stdout",
     "output_type": "stream",
     "text": [
      "Note that OOV words also have an embedding\n",
      "Token: 1 What\n",
      "tensor([-0.0138, -0.0010,  0.0710,  ..., -0.0033,  0.0016,  0.0274])\n",
      "torch.Size([2048])\n",
      "Token: 2 are\n",
      "tensor([ 0.0003, -0.0217, -0.0197,  ...,  0.0007,  0.0001,  0.0035])\n",
      "torch.Size([2048])\n",
      "Token: 3 the\n",
      "tensor([-0.0039,  0.0006,  0.0103,  ...,  0.0015,  0.0124,  0.0510])\n",
      "torch.Size([2048])\n",
      "Token: 4 plans\n",
      "tensor([-1.2313e-03, -8.0977e-05,  3.0217e-02,  ..., -5.0141e-04,\n",
      "        -2.7164e-03,  4.7440e-03])\n",
      "torch.Size([2048])\n",
      "Token: 5 for\n",
      "tensor([ 1.4394e-03,  5.1840e-05,  6.1391e-03,  ..., -6.3837e-04,\n",
      "        -4.0412e-03,  6.9544e-03])\n",
      "torch.Size([2048])\n",
      "Token: 6 iCargo\n",
      "tensor([ 0.0052, -0.0003,  0.0368,  ..., -0.0002,  0.0020,  0.0003])\n",
      "torch.Size([2048])\n",
      "Token: 7 ?\n",
      "tensor([ 6.5264e-04,  1.5800e-05, -7.8801e-02,  ...,  5.5658e-06,\n",
      "         1.3291e-03,  1.8110e-03])\n",
      "torch.Size([2048])\n"
     ]
    }
   ],
   "source": [
    "sentence=Sentence('What are the plans for iCargo?')\n",
    "flair_embedding = FlairEmbeddings('news-forward')\n",
    "flair_embedding.embed(sentence)\n",
    "print('Note that OOV words also have an embedding')\n",
    "for token in sentence:\n",
    "    print(token)\n",
    "    print(token.embedding)\n",
    "    print(token.embedding.shape)"
   ]
  },
  {
   "cell_type": "markdown",
   "id": "7b227553",
   "metadata": {},
   "source": [
    "Here we can not only combine simple embeddings we can even combine BERT and FLAIR. For using BERT embeddings, we need to include TransformerEmbeddings"
   ]
  },
  {
   "cell_type": "code",
   "execution_count": 26,
   "id": "a7bc6712",
   "metadata": {},
   "outputs": [],
   "source": [
    "from flair.embeddings import StackedEmbeddings\n",
    "\n",
    "# create a StackedEmbedding object that combines glove and forward/backward flair embeddings\n",
    "stacked_embeddings = StackedEmbeddings([\n",
    "                                        glove_embedding,\n",
    "                                        flair_embedding\n",
    "                                       ])"
   ]
  },
  {
   "cell_type": "code",
   "execution_count": 27,
   "id": "06e4a4aa",
   "metadata": {},
   "outputs": [
    {
     "name": "stdout",
     "output_type": "stream",
     "text": [
      "Note that OOV words also have an embedding. Now note that we are trying to stack two embedding one is 100 and other is 2048 and the resulting one is 2148.\n",
      "Token: 1 What\n",
      "tensor([-0.1518,  0.3841,  0.8934,  ..., -0.0033,  0.0016,  0.0274])\n",
      "tensor([])\n",
      "torch.Size([2148])\n",
      "Token: 2 are\n",
      "tensor([-5.1533e-01,  8.3186e-01,  2.2457e-01,  ...,  7.1151e-04,\n",
      "         1.4361e-04,  3.5160e-03])\n",
      "tensor([])\n",
      "torch.Size([2148])\n",
      "Token: 3 the\n",
      "tensor([-0.0382, -0.2449,  0.7281,  ...,  0.0015,  0.0124,  0.0510])\n",
      "tensor([])\n",
      "torch.Size([2148])\n",
      "Token: 4 plans\n",
      "tensor([ 0.0481,  0.0155, -0.1667,  ..., -0.0005, -0.0027,  0.0047])\n",
      "tensor([])\n",
      "torch.Size([2148])\n",
      "Token: 5 for\n",
      "tensor([-0.1440,  0.3255,  0.1426,  ..., -0.0006, -0.0040,  0.0070])\n",
      "tensor([])\n",
      "torch.Size([2148])\n",
      "Token: 6 iCargo\n",
      "tensor([ 0.0000,  0.0000,  0.0000,  ..., -0.0002,  0.0020,  0.0003])\n",
      "tensor([])\n",
      "torch.Size([2148])\n",
      "Token: 7 ?\n",
      "tensor([1.6382e-01, 6.0464e-01, 1.0789e+00,  ..., 5.5658e-06, 1.3291e-03,\n",
      "        1.8110e-03])\n",
      "tensor([])\n",
      "torch.Size([2148])\n"
     ]
    }
   ],
   "source": [
    "sentence=Sentence('What are the plans for iCargo?')\n",
    "stacked_embeddings.embed(sentence)\n",
    "print('Note that OOV words also have an embedding. Now note that we are trying to stack two embedding one is 100 \\\n",
    "and other is 2048 and the resulting one is 2148.')\n",
    "for token in sentence:\n",
    "    print(token)\n",
    "    print(token.embedding)\n",
    "    print(token.embedding[2248:2278])\n",
    "    print(token.embedding.shape)"
   ]
  },
  {
   "cell_type": "markdown",
   "id": "2a20e770",
   "metadata": {},
   "source": [
    "## Document Embeddings\n",
    "They are four different ways to generate a document embedding in Flair.\n",
    "They are,\n",
    "<li> DocumentPoolEmbeddings - average of all word embeddings\n",
    "<li> DocumentRNNEmbeddings - generate the sentence embedding through a RNN\n",
    "<li> TransformerDocumentEmbeddings - Transformer based single vector representation. Best for classification tasks\n",
    "<li> SentenceTransformerDocumentEmbeddings - Transformer based best for vector representation.\n",
    "    \n",
    "I am just going to doa  cosine similarity between two vectors to see how well the context is maintained across these sentences."
   ]
  },
  {
   "cell_type": "code",
   "execution_count": 28,
   "id": "a69b9afa",
   "metadata": {},
   "outputs": [],
   "source": [
    "sent1 = Sentence('I would like to book a ticket from Singapore to Dubai')\n",
    "sent2= Sentence('I am looking for a flight to Dubai from Sydney')"
   ]
  },
  {
   "cell_type": "code",
   "execution_count": 29,
   "id": "5def9f9d",
   "metadata": {},
   "outputs": [],
   "source": [
    "from flair.embeddings import WordEmbeddings, DocumentPoolEmbeddings\n",
    "# initialize the word embeddings\n",
    "glove_embedding = WordEmbeddings('glove')\n",
    "\n",
    "# initialize the document embeddings, mode = mean\n",
    "document_embeddings = DocumentPoolEmbeddings([glove_embedding])"
   ]
  },
  {
   "cell_type": "code",
   "execution_count": 30,
   "id": "00bd9c1b",
   "metadata": {},
   "outputs": [
    {
     "name": "stdout",
     "output_type": "stream",
     "text": [
      "0.0411607027053833\n"
     ]
    }
   ],
   "source": [
    "document_embeddings.embed(sent1)\n",
    "document_embeddings.embed(sent2)\n",
    "from scipy.spatial import distance\n",
    "print(distance.cosine(sent1.embedding ,sent2.embedding))"
   ]
  },
  {
   "cell_type": "markdown",
   "id": "c96af68a",
   "metadata": {},
   "source": [
    "Here we can see that when using the DocumentPool embedding it is not able to maintain the meaning that well. Now let us try the others and see."
   ]
  },
  {
   "cell_type": "code",
   "execution_count": 31,
   "id": "ac3bec44",
   "metadata": {},
   "outputs": [],
   "source": [
    "from flair.embeddings import WordEmbeddings, DocumentRNNEmbeddings\n",
    "glove_embedding = WordEmbeddings('glove')\n",
    "document_rnn_embeddings = DocumentRNNEmbeddings([glove_embedding])"
   ]
  },
  {
   "cell_type": "code",
   "execution_count": 32,
   "id": "ba6e781c",
   "metadata": {},
   "outputs": [
    {
     "name": "stdout",
     "output_type": "stream",
     "text": [
      "torch.Size([128])\n",
      "torch.Size([128])\n",
      "0.12523549795150757\n"
     ]
    }
   ],
   "source": [
    "sent1 = Sentence('I would like to book a ticket from Singapore to Dubai')\n",
    "sent2= Sentence('I am looking for a flight to Dubai from Sydney')\n",
    "document_rnn_embeddings.embed(sent1)\n",
    "document_rnn_embeddings.embed(sent2)\n",
    "print(sent1.get_embedding().shape)\n",
    "print(sent2.get_embedding().shape)\n",
    "from scipy.spatial import distance\n",
    "print(distance.cosine(sent1.get_embedding().detach().numpy() ,sent2.get_embedding().detach().numpy()))"
   ]
  },
  {
   "cell_type": "markdown",
   "id": "503112f6",
   "metadata": {},
   "source": [
    "Note that this is much better than the Document Pool embedding the fact that it is a RNN model offers us many choices in terms of training the network. Next we will look at the transformer based embeddings. This also uses Hugging Face pretrained models. The complete list of model names can be found here. https://huggingface.co/transformers/pretrained_models.html . In the below code, we will use roberta-base."
   ]
  },
  {
   "cell_type": "code",
   "execution_count": 33,
   "id": "8615423c",
   "metadata": {},
   "outputs": [
    {
     "name": "stdout",
     "output_type": "stream",
     "text": [
      "torch.Size([768])\n",
      "torch.Size([768])\n",
      "0.03231412172317505\n"
     ]
    }
   ],
   "source": [
    "\n",
    "from flair.embeddings import TransformerDocumentEmbeddings\n",
    "# init embedding\n",
    "transformer_embedding = TransformerDocumentEmbeddings('bert-base-uncased')\n",
    "sent1 = Sentence('I would like to book a ticket from Singapore to Dubai')\n",
    "sent2= Sentence('I am looking for a flight to Dubai from Sydney')\n",
    "transformer_embedding.embed(sent1)\n",
    "transformer_embedding.embed(sent2)\n",
    "print(sent1.get_embedding().shape)\n",
    "print(sent2.get_embedding().shape)\n",
    "from scipy.spatial import distance\n",
    "print(distance.cosine(sent1.get_embedding().detach().numpy() ,sent2.get_embedding().detach().numpy()))"
   ]
  },
  {
   "cell_type": "code",
   "execution_count": 34,
   "id": "15a85124",
   "metadata": {},
   "outputs": [
    {
     "name": "stdout",
     "output_type": "stream",
     "text": [
      "torch.Size([768])\n",
      "torch.Size([768])\n",
      "0.19691473245620728\n"
     ]
    }
   ],
   "source": [
    "from flair.data import Sentence\n",
    "from flair.embeddings import SentenceTransformerDocumentEmbeddings\n",
    "# init embedding\n",
    "embedding = SentenceTransformerDocumentEmbeddings('bert-base-nli-mean-tokens')\n",
    "sent1 = Sentence('I would like to book a ticket from Singapore to Dubai')\n",
    "sent2= Sentence('I am looking for a flight to Dubai from Sydney')\n",
    "embedding.embed(sent1)\n",
    "embedding.embed(sent2)\n",
    "print(sent1.get_embedding().shape)\n",
    "print(sent2.get_embedding().shape)\n",
    "from scipy.spatial import distance\n",
    "print(distance.cosine(sent1.get_embedding().detach().numpy() ,sent2.get_embedding().detach().numpy()))"
   ]
  },
  {
   "cell_type": "markdown",
   "id": "4b0809f7",
   "metadata": {},
   "source": [
    "## Loading Corpus and Datasets"
   ]
  },
  {
   "cell_type": "code",
   "execution_count": 36,
   "id": "2a7baf31",
   "metadata": {},
   "outputs": [
    {
     "name": "stdout",
     "output_type": "stream",
     "text": [
      "2021-11-19 04:07:32,507 https://raw.githubusercontent.com/UniversalDependencies/UD_English-EWT/master/en_ewt-ud-dev.conllu not found in cache, downloading to C:\\Users\\A-7651\\AppData\\Local\\Temp\\tmpwk4ez8t6\n"
     ]
    },
    {
     "name": "stderr",
     "output_type": "stream",
     "text": [
      "1737028B [00:07, 230295.72B/s]                                                                                         "
     ]
    },
    {
     "name": "stdout",
     "output_type": "stream",
     "text": [
      "2021-11-19 04:07:40,516 copying C:\\Users\\A-7651\\AppData\\Local\\Temp\\tmpwk4ez8t6 to cache at C:\\Users\\A-7651\\.flair\\datasets\\ud_english\\en_ewt-ud-dev.conllu\n",
      "2021-11-19 04:07:40,525 removing temp file C:\\Users\\A-7651\\AppData\\Local\\Temp\\tmpwk4ez8t6\n"
     ]
    },
    {
     "name": "stderr",
     "output_type": "stream",
     "text": [
      "\n"
     ]
    },
    {
     "name": "stdout",
     "output_type": "stream",
     "text": [
      "2021-11-19 04:07:41,391 https://raw.githubusercontent.com/UniversalDependencies/UD_English-EWT/master/en_ewt-ud-test.conllu not found in cache, downloading to C:\\Users\\A-7651\\AppData\\Local\\Temp\\tmp616mz5gf\n"
     ]
    },
    {
     "name": "stderr",
     "output_type": "stream",
     "text": [
      "1738118B [00:06, 266770.50B/s]                                                                                         "
     ]
    },
    {
     "name": "stdout",
     "output_type": "stream",
     "text": [
      "2021-11-19 04:07:48,420 copying C:\\Users\\A-7651\\AppData\\Local\\Temp\\tmp616mz5gf to cache at C:\\Users\\A-7651\\.flair\\datasets\\ud_english\\en_ewt-ud-test.conllu\n",
      "2021-11-19 04:07:48,424 removing temp file C:\\Users\\A-7651\\AppData\\Local\\Temp\\tmp616mz5gf\n"
     ]
    },
    {
     "name": "stderr",
     "output_type": "stream",
     "text": [
      "\n"
     ]
    },
    {
     "name": "stdout",
     "output_type": "stream",
     "text": [
      "2021-11-19 04:07:50,257 https://raw.githubusercontent.com/UniversalDependencies/UD_English-EWT/master/en_ewt-ud-train.conllu not found in cache, downloading to C:\\Users\\A-7651\\AppData\\Local\\Temp\\tmpe_i78zpb\n"
     ]
    },
    {
     "name": "stderr",
     "output_type": "stream",
     "text": [
      "13679077B [00:02, 6752527.53B/s]                                                                                       "
     ]
    },
    {
     "name": "stdout",
     "output_type": "stream",
     "text": [
      "2021-11-19 04:07:57,060 copying C:\\Users\\A-7651\\AppData\\Local\\Temp\\tmpe_i78zpb to cache at C:\\Users\\A-7651\\.flair\\datasets\\ud_english\\en_ewt-ud-train.conllu\n",
      "2021-11-19 04:07:57,083 removing temp file C:\\Users\\A-7651\\AppData\\Local\\Temp\\tmpe_i78zpb\n",
      "2021-11-19 04:07:57,083 Reading data from C:\\Users\\A-7651\\.flair\\datasets\\ud_english\n",
      "2021-11-19 04:07:57,083 Train: C:\\Users\\A-7651\\.flair\\datasets\\ud_english\\en_ewt-ud-train.conllu\n",
      "2021-11-19 04:07:57,093 Dev: C:\\Users\\A-7651\\.flair\\datasets\\ud_english\\en_ewt-ud-dev.conllu\n",
      "2021-11-19 04:07:57,094 Test: C:\\Users\\A-7651\\.flair\\datasets\\ud_english\\en_ewt-ud-test.conllu\n"
     ]
    },
    {
     "name": "stderr",
     "output_type": "stream",
     "text": [
      "\n"
     ]
    }
   ],
   "source": [
    "import flair.datasets\n",
    "corpus = flair.datasets.UD_ENGLISH()"
   ]
  },
  {
   "cell_type": "code",
   "execution_count": 37,
   "id": "e5139ff2",
   "metadata": {},
   "outputs": [
    {
     "name": "stdout",
     "output_type": "stream",
     "text": [
      "12543\n",
      "2001\n",
      "2077\n"
     ]
    }
   ],
   "source": [
    "print(len(corpus.train))\n",
    "print(len(corpus.dev))\n",
    "print(len(corpus.test))"
   ]
  },
  {
   "cell_type": "code",
   "execution_count": 40,
   "id": "933f2021",
   "metadata": {},
   "outputs": [
    {
     "name": "stdout",
     "output_type": "stream",
     "text": [
      "Al <NNP> - <HYPH> Zaman <NNP> : <:> American <JJ> forces <NNS> killed <VBD> Shaikh <NNP> Abdullah <NNP> al <NNP> - <HYPH> Ani <NNP> , <,> the <DT> preacher <NN> at <IN> the <DT> mosque <NN> in <IN> the <DT> town <NN> of <IN> Qaim <NNP> , <,> near <IN> the <DT> Syrian <JJ> border <NN> . <.>\n",
      "Al - Zaman : American forces killed Shaikh Abdullah al - Ani , the preacher at the mosque in the town of Qaim , near the Syrian border .\n"
     ]
    }
   ],
   "source": [
    "print(corpus.train[0].to_tagged_string('pos'))\n",
    "print(corpus.train[0].to_tagged_string('ner'))"
   ]
  },
  {
   "cell_type": "code",
   "execution_count": 44,
   "id": "ba29f93b",
   "metadata": {},
   "outputs": [
    {
     "name": "stdout",
     "output_type": "stream",
     "text": [
      "2021-11-19 04:21:11,130 Computing label dictionary. Progress:\n"
     ]
    },
    {
     "name": "stderr",
     "output_type": "stream",
     "text": [
      "100%|█████████████████████████████████████████████████████████████████████████| 12543/12543 [00:00<00:00, 21758.81it/s]"
     ]
    },
    {
     "name": "stdout",
     "output_type": "stream",
     "text": [
      "2021-11-19 04:21:11,711 Corpus contains the labels: upos (#204580), lemma (#204579), pos (#204579), dependency (#204579), number (#77297), verbform (#35405), prontype (#33571), person (#30486), tense (#20232), mood (#16549), degree (#13941), definite (#13301), case (#12093), numtype (#4448), gender (#4041), poss (#3040), voice (#1206), typo (#466), abbr (#230), extpos (#189), reflex (#100), style (#33), foreign (#19)\n",
      "2021-11-19 04:21:11,711 Created (for label 'foreign') Dictionary with 1 tags: Yes\n",
      "Dictionary with 1 tags: Yes\n"
     ]
    },
    {
     "name": "stderr",
     "output_type": "stream",
     "text": [
      "\n"
     ]
    }
   ],
   "source": [
    "# create label dictionary for a Universal Part-of-Speech tagging task\n",
    "upos_dictionary = corpus.make_label_dictionary(label_type='foreign')\n",
    "\n",
    "# print dictionary\n",
    "print(upos_dictionary)"
   ]
  },
  {
   "cell_type": "markdown",
   "id": "9769fba6",
   "metadata": {},
   "source": [
    "Make Label Dictionary can be used for creating labels in Text Classification tasks as well. We could also use the MultiCorpus object to initiate and pass multiple corpuses."
   ]
  },
  {
   "cell_type": "markdown",
   "id": "20b73875",
   "metadata": {},
   "source": [
    "## Predicting using Flair Zero Shot Model\n"
   ]
  },
  {
   "cell_type": "code",
   "execution_count": 1,
   "id": "0230dc42",
   "metadata": {},
   "outputs": [
    {
     "name": "stdout",
     "output_type": "stream",
     "text": [
      "2021-12-02 10:05:23,577 loading file C:\\Users\\A-7651\\.flair\\models\\tars-base-v8.pt\n",
      "{'TREC_6': {'label_dictionary': <flair.data.Dictionary object at 0x0000019628DD4F70>, 'multi_label': False, 'multi_label_threshold': 0.5, 'label_type': None, 'beta': 1.0}, 'DBPedia': {'label_dictionary': <flair.data.Dictionary object at 0x0000019628DD4FA0>, 'multi_label': False, 'multi_label_threshold': 0.5, 'label_type': None, 'beta': 1.0}, 'AGNews': {'label_dictionary': <flair.data.Dictionary object at 0x0000019628DFE250>, 'multi_label': False, 'multi_label_threshold': 0.5, 'label_type': None, 'beta': 1.0}, 'IMDB': {'label_dictionary': <flair.data.Dictionary object at 0x0000019628DFE310>, 'multi_label': False, 'multi_label_threshold': 0.5, 'label_type': None, 'beta': 1.0}, 'SST': {'label_dictionary': <flair.data.Dictionary object at 0x0000019628DFE370>, 'multi_label': False, 'multi_label_threshold': 0.5, 'label_type': None, 'beta': 1.0}, 'GO_EMOTIONS': {'label_dictionary': <flair.data.Dictionary object at 0x0000019628DFE3D0>, 'multi_label': True, 'multi_label_threshold': 0.5, 'label_type': None, 'beta': 1.0}, 'NEWS_CATEGORY': {'label_dictionary': <flair.data.Dictionary object at 0x0000019628DFE940>, 'multi_label': False, 'multi_label_threshold': 0.5, 'label_type': None, 'beta': 1.0}, 'Amazon': {'label_dictionary': <flair.data.Dictionary object at 0x0000019637D70160>, 'multi_label': False, 'multi_label_threshold': 0.5, 'label_type': None, 'beta': 1.0}, 'Yelp': {'label_dictionary': <flair.data.Dictionary object at 0x0000019628DD4F40>, 'multi_label': False, 'multi_label_threshold': 0.5, 'label_type': None, 'beta': 1.0}}\n",
      "Sentence: \"I am so glad you liked it !\"   [− Tokens: 8  − Sentence-Labels: {'happy-sad': [happy (0.8667)]}]\n"
     ]
    }
   ],
   "source": [
    "from flair.models import TARSClassifier\n",
    "from flair.data import Sentence\n",
    "\n",
    "# 1. Load our pre-trained TARS model for English\n",
    "tars = TARSClassifier.load('tars-base')\n",
    "\n",
    "# 2. Prepare a test sentence\n",
    "sentence = Sentence(\"I am so glad you liked it!\")\n",
    "\n",
    "# 3. Define some classes that you want to predict using descriptive names\n",
    "classes = [\"happy\", \"sad\"]\n",
    "\n",
    "#4. Predict for these classes\n",
    "tars.predict_zero_shot(sentence, classes)\n",
    "\n",
    "# Print sentence with predicted labels\n",
    "print(sentence)"
   ]
  },
  {
   "cell_type": "markdown",
   "id": "062d3c78",
   "metadata": {},
   "source": [
    "Now we will try this one of our sentences relevant for travel scenario"
   ]
  },
  {
   "cell_type": "code",
   "execution_count": 15,
   "id": "073affb4",
   "metadata": {},
   "outputs": [
    {
     "name": "stdout",
     "output_type": "stream",
     "text": [
      "Sentence: \"Please book a cargo shipment for next week from dxb to syd\"   [− Tokens: 12  − Sentence-Labels: {'Check Rates-Cargo Booking': [Check Rates (0.664), Cargo Booking (0.9632)]}]\n"
     ]
    }
   ],
   "source": [
    "# 2. Prepare a test sentence\n",
    "sentence = Sentence(\"Please book a cargo shipment for next week from dxb to syd\")\n",
    "\n",
    "# 3. Define some classes that you want to predict using descriptive names\n",
    "classes = [\"Cargo Booking\", \"Check Rates\"]\n",
    "\n",
    "#4. Predict for these classes\n",
    "tars.predict_zero_shot(sentence, classes)\n",
    "print(sentence)"
   ]
  },
  {
   "cell_type": "code",
   "execution_count": 16,
   "id": "bd0d1961",
   "metadata": {},
   "outputs": [
    {
     "name": "stdout",
     "output_type": "stream",
     "text": [
      "2021-12-02 10:16:26,512 --------------------------------------------------------------------------------\n",
      "2021-12-02 10:16:26,515 The model key 'ner' now maps to 'https://huggingface.co/flair/ner-english' on the HuggingFace ModelHub\n",
      "2021-12-02 10:16:26,515  - The most current version of the model is automatically downloaded from there.\n",
      "2021-12-02 10:16:26,518  - (you can alternatively manually download the original model at https://nlp.informatik.hu-berlin.de/resources/models/ner/en-ner-conll03-v0.4.pt)\n",
      "2021-12-02 10:16:26,519 --------------------------------------------------------------------------------\n",
      "2021-12-02 10:16:28,610 loading file C:\\Users\\A-7651\\.flair\\models\\ner-english\\4f4cdab26f24cb98b732b389e6cebc646c36f54cfd6e0b7d3b90b25656e4262f.8baa8ae8795f4df80b28e7f7b61d788ecbb057d1dc85aacb316f1bd02837a4a4\n"
     ]
    }
   ],
   "source": [
    "from flair.models import SequenceTagger\n",
    "sentence = Sentence('I love Berlin .')\n",
    "\n",
    "# load the NER tagger\n",
    "tagger = SequenceTagger.load('ner')"
   ]
  },
  {
   "cell_type": "code",
   "execution_count": 18,
   "id": "93c02e05",
   "metadata": {},
   "outputs": [
    {
     "name": "stdout",
     "output_type": "stream",
     "text": [
      "The following NER tags are found:\n",
      "Span [3]: \"Berlin\"   [− Labels: LOC (0.999)]\n"
     ]
    }
   ],
   "source": [
    "# run NER over sentence\n",
    "tagger.predict(sentence)\n",
    "print('The following NER tags are found:')\n",
    "\n",
    "# iterate over entities and print\n",
    "for entity in sentence.get_spans('ner'):\n",
    "    print(entity)"
   ]
  },
  {
   "cell_type": "markdown",
   "id": "9592708a",
   "metadata": {},
   "source": [
    "## Training a new model\n",
    "This introduces us to Flair.. Now i am going to create a new notebook for training using flair. That will be separate.\n"
   ]
  },
  {
   "cell_type": "code",
   "execution_count": null,
   "id": "d94891b7",
   "metadata": {},
   "outputs": [],
   "source": []
  }
 ],
 "metadata": {
  "kernelspec": {
   "display_name": "Python 3 (ipykernel)",
   "language": "python",
   "name": "python3"
  },
  "language_info": {
   "codemirror_mode": {
    "name": "ipython",
    "version": 3
   },
   "file_extension": ".py",
   "mimetype": "text/x-python",
   "name": "python",
   "nbconvert_exporter": "python",
   "pygments_lexer": "ipython3",
   "version": "3.8.12"
  }
 },
 "nbformat": 4,
 "nbformat_minor": 5
}
